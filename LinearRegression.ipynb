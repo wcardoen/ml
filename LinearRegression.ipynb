{
 "cells": [
  {
   "cell_type": "markdown",
   "id": "37fb644a",
   "metadata": {},
   "source": [
    "# Linear Regression"
   ]
  },
  {
   "cell_type": "code",
   "execution_count": 2,
   "id": "789d0fcf",
   "metadata": {},
   "outputs": [],
   "source": [
    "import numpy as np\n",
    "import numpy.random as rnd\n",
    "import numpy.linalg as la\n",
    "import matplotlib.pyplot as plt\n",
    "%matplotlib inline"
   ]
  },
  {
   "cell_type": "markdown",
   "id": "255b40b7",
   "metadata": {},
   "source": [
    "**Linear regression** is a supervised method.\n",
    "\n",
    "\\begin{equation}\n",
    " f: X \\rightarrow y \\nonumber\n",
    "\\end{equation}"
   ]
  },
  {
   "cell_type": "markdown",
   "id": "887bbb11",
   "metadata": {},
   "source": [
    "## Data sets"
   ]
  },
  {
   "cell_type": "markdown",
   "id": "a13f061b",
   "metadata": {},
   "source": [
    "In what follows we will use 2 data sets:\n",
    "\n",
    "* a synthetic data set\n",
    "* the Diabetes Data set from *Efron et al.* (2004)"
   ]
  },
  {
   "cell_type": "code",
   "execution_count": 3,
   "id": "bbd4a3b3",
   "metadata": {},
   "outputs": [
    {
     "data": {
      "image/png": "[encoded data removed]",
      "text/plain": [
       "<Figure size 432x288 with 1 Axes>"
      ]
     },
     "metadata": {
      "needs_background": "light"
     },
     "output_type": "display_data"
    }
   ],
   "source": [
    "# DATA SET 1:               \n",
    "MEAN=0.0\n",
    "SD=0.25 # Sigma^2=0.0625\n",
    "SZ=10\n",
    "x=np.linspace(0.0, 2.0*np.pi, num=SZ)\n",
    "rnd.seed(seed=2505) # To make data reproducible\n",
    "noise=rnd.normal(loc=MEAN, scale=SD, size=SZ)\n",
    "y1=np.cos(x) \n",
    "y=y1 + noise\n",
    "\n",
    "plt.plot(x,y1,'o',label=r'$\\cos(x)$ where $x \\in [0,2\\pi]$')\n",
    "plt.plot(x,y,'x',label=r'$\\cos(x)+\\epsilon$ where $ \\epsilon \\sim N(0.0,0.0625)$ ')\n",
    "plt.xlabel(\"x\")\n",
    "plt.ylabel(\"y\")\n",
    "plt.legend()\n",
    "plt.title(r'Data set1: Synthetic data set')\n",
    "plt.show()"
   ]
  },
  {
   "cell_type": "markdown",
   "id": "d3cb3897",
   "metadata": {},
   "source": [
    "## Optimization of a given model"
   ]
  },
  {
   "cell_type": "markdown",
   "id": "d49c10f9",
   "metadata": {},
   "source": [
    "Let's consider the following linear model:\n",
    "\\begin{eqnarray}\n",
    " Y_i & = & \\sum_{i=0}^n X_i \\, \\beta_i \\, + \\, \\epsilon_i \\nonumber \n",
    "\\end{eqnarray}\n",
    "\n",
    "or in matrix form:\n",
    "\\begin{eqnarray}\n",
    " Y   & = & X\\, \\beta \\, + \\, \\epsilon \\nonumber \n",
    "\\end{eqnarray}\n",
    "where $X$ (design matrix) is an $n \\times p$ matrix.\n",
    "(In what follows, we assume that $n \\ge p$).\n",
    "\n",
    "This model can be optimized in several ways, e.g.:\n",
    "* Least Squares Regression (LSQ)\n",
    "* Gradient Descent\n",
    "* Maximum Likelihood Estimation (MLE)"
   ]
  },
  {
   "cell_type": "markdown",
   "id": "65a7f850",
   "metadata": {},
   "source": [
    "### Least Squares method"
   ]
  },
  {
   "cell_type": "markdown",
   "id": "ba8cf8e8",
   "metadata": {},
   "source": [
    "The LSQ approach does **not** require information on the data points' underlying distribution.<br>\n",
    "Mathematically $\\beta$ can be estimated by minimizing the following $L^2$ norm:\n",
    "\\begin{eqnarray}\n",
    "   L(\\beta) & = & |Y - X\\beta|^2 \\nonumber \n",
    "\\end{eqnarray}\n",
    "\n",
    "Thus, taking the matrix derivative $\\frac{\\partial L}{\\partial \\beta}$ leads to the so-called \"normal\" equations:\n",
    "\\begin{eqnarray}\n",
    " X^T \\, X \\,\\widehat{\\beta}& = & X^T\\,Y \\nonumber\n",
    "\\end{eqnarray}\n",
    "\n",
    "If the regression/design matrix $X$ has rank $p$, then the matrix $X^TX$ is positive-definite and \n",
    "thus non-singular.\n",
    "\n",
    "The estimate for $\\beta$ i.e. $\\widehat{\\beta}$ is **unique** and thus given by:\n",
    "\\begin{eqnarray}\n",
    "   \\widehat{\\beta} & = & (X^TX)^{-1}\\,X^T \\,Y \\nonumber\n",
    "\\end{eqnarray}\n",
    "\n",
    "The fitted values $\\widehat{Y}$ are given by:\n",
    "\\begin{eqnarray}\n",
    "   \\widehat{Y} & = & X \\,  \\widehat{\\beta} \\nonumber\n",
    "\\end{eqnarray}\n",
    "\n",
    "The residuals $e$ are given by:\n",
    "\\begin{eqnarray}\n",
    "   e & = & Y\\, - \\, \\widehat{Y}  \\nonumber \\\\\n",
    "     & = & Y\\, - \\, X \\,  \\widehat{\\beta} \\nonumber\n",
    "\\end{eqnarray}\n",
    "\n",
    "The **residual sums of squares** (RSS) is thus:\n",
    "\\begin{eqnarray}\n",
    "   e^T\\,e &= & Y^TY \\, - \\, \\widehat{\\beta}^T  X^T X \\widehat{\\beta} \\nonumber\n",
    "\\end{eqnarray}\n",
    "\n",
    "The **mean square error** (MSE) is then given by:\n",
    "\\begin{eqnarray}\n",
    "    \\mathrm{MSE} & = & \\frac{\\mathrm{RSS}}{n} \\nonumber\n",
    "\\end{eqnarray}"
   ]
  },
  {
   "cell_type": "code",
   "execution_count": 4,
   "id": "4cf7c7ec",
   "metadata": {},
   "outputs": [
    {
     "name": "stdout",
     "output_type": "stream",
     "text": [
      " Max. PolyOrder:10\n"
     ]
    }
   ],
   "source": [
    "def genXmat(x,orderPoly,hasIntercept=True):\n",
    "    \"\"\"\n",
    "    Create X matrix based on:\n",
    "      orderPoly:: order of the polynomial\n",
    "      hasIntercept :: presence of Intercept\n",
    "    \"\"\"\n",
    "    start=0\n",
    "    if hasIntercept==False:\n",
    "        start=1\n",
    "    return x[:,np.newaxis]**np.arange(start, orderPoly+1)\n",
    "\n",
    "def calcBetaHat(Xmat,Y):\n",
    "    \"\"\"\n",
    "    Calculate BetaHat\n",
    "    \"\"\"\n",
    "    return la.inv(Xmat.T @ Xmat) @ Xmat.T @ Y\n",
    "\n",
    "def calcYHat(Xmat,BetaHat):\n",
    "    \"\"\"regression\n",
    "    Calculate YHat\n",
    "    \"\"\"\n",
    "    return Xmat @ BetaHat\n",
    "\n",
    "def calcResid(Y,YHat):\n",
    "    \"\"\"regression\n",
    "    Calculate Residual\n",
    "    \"\"\"\n",
    "    return Y - YHat\n",
    "\n",
    "\n",
    "MAXORDER = x.shape[0]\n",
    "print(f\" Max. PolyOrder:{MAXORDER}\")\n",
    "\n",
    "lstIorder, lstRSS = [], []\n",
    "lstBetaHat, lstYHat = [], []\n",
    "for iorder in range(1, MAXORDER):\n",
    "    \n",
    "    Xmat = genXmat(x,iorder)\n",
    "    BetaHat = calcBetaHat(Xmat,y)\n",
    "    YHat = calcYHat(Xmat,BetaHat)\n",
    "    Res = calcResid(y,YHat)\n",
    "    RSS = np.sum(Res * Res)\n",
    "    # Accumulate data\n",
    "    lstIorder.append(iorder)\n",
    "    lstBetaHat.append(BetaHat)\n",
    "    lstYHat.append(YHat)\n",
    "    lstRSS.append(RSS)  "
   ]
  },
  {
   "cell_type": "code",
   "execution_count": 5,
   "id": "6a42e8be",
   "metadata": {},
   "outputs": [
    {
     "data": {
      "image/png": "[encoded data removed]",
      "text/plain": [
       "<Figure size 432x288 with 1 Axes>"
      ]
     },
     "metadata": {
      "needs_background": "light"
     },
     "output_type": "display_data"
    }
   ],
   "source": [
    "plt.title('Data set1 and corresponding ' + r'$P_n(x)$' + ' fits')\n",
    "plt.plot(x, y, 'x', label=r'Exp.')\n",
    "plt.xlabel('x')\n",
    "plt.ylabel('y')\n",
    "plt.plot(x, lstYHat[0], label=r'$P_1(x)$')\n",
    "plt.plot(x, lstYHat[1], label=r'$P_2(x)$')\n",
    "plt.plot(x, lstYHat[2], label=r'$P_3(x)$')\n",
    "plt.plot(x, lstYHat[8], label=r'$P_9(x)$')\n",
    "plt.legend()\n",
    "plt.show()"
   ]
  },
  {
   "cell_type": "code",
   "execution_count": 7,
   "id": "34322cd6",
   "metadata": {},
   "outputs": [
    {
     "data": {
      "image/png": "[encoded data removed]",
      "text/plain": [
       "<Figure size 432x288 with 1 Axes>"
      ]
     },
     "metadata": {
      "needs_background": "light"
     },
     "output_type": "display_data"
    }
   ],
   "source": [
    "plt.axhline(y=0.0, color='r',linestyle='-')\n",
    "plt.title('MSE as function of ' + r'$P_n(x)=\\sum_{k=0}^n \\beta_k x^k$')\n",
    "plt.xlabel('n')\n",
    "plt.ylabel('MSE')\n",
    "plt.plot(np.array(lstIorder), np.array(lstRSS)/x.shape[0],'o--')\n",
    "plt.show()"
   ]
  },
  {
   "cell_type": "markdown",
   "id": "06329652",
   "metadata": {},
   "source": [
    "#### Ex.: $P_3(x)$ polynomial fit for data set 1\n"
   ]
  },
  {
   "cell_type": "markdown",
   "id": "df8c7444",
   "metadata": {},
   "source": [
    "The cubic approximation is given by:\n",
    "\\begin{eqnarray}\n",
    " P_3(x) &:= & \\displaystyle \\sum_{k=0}^3 \\beta_k \\, x^k \\nonumber \\\\\n",
    "        & = &\\beta_0 \\, + \\beta_1 \\, x \\, + \\, \\beta_2 \\,x^2 \\, + \\, \\beta_3 \\, x^3 \\nonumber\n",
    "\\end{eqnarray} \n"
   ]
  },
  {
   "cell_type": "code",
   "execution_count": 16,
   "id": "c197979b",
   "metadata": {},
   "outputs": [
    {
     "name": "stdout",
     "output_type": "stream",
     "text": [
      "Numerical values (data set1)::\n",
      "  Beta_0:   1.50131612\n",
      "  Beta_1:  -1.66363662\n",
      "  Beta_2:   0.34779480\n",
      "  Beta_3:  -0.01394542\n"
     ]
    }
   ],
   "source": [
    "print(f\"Numerical values (data set1)::\")\n",
    "for i, item in enumerate(lstBetaHat[2]):\n",
    "    print(f\"  Beta_{i}: {item:12.8f}\")"
   ]
  },
  {
   "cell_type": "markdown",
   "id": "465ead72",
   "metadata": {},
   "source": [
    "### Gradient Descent"
   ]
  },
  {
   "cell_type": "markdown",
   "id": "570a2a6a",
   "metadata": {},
   "source": [
    "The estimate for $\\beta$ can also be found using gradient descent."
   ]
  },
  {
   "cell_type": "markdown",
   "id": "7487b1b0",
   "metadata": {},
   "source": [
    "## Finding the optimal model"
   ]
  },
  {
   "cell_type": "markdown",
   "id": "896c0142",
   "metadata": {},
   "source": [
    "Issue of overfitting and underfitting."
   ]
  },
  {
   "cell_type": "code",
   "execution_count": null,
   "id": "231063a3",
   "metadata": {},
   "outputs": [],
   "source": []
  }
 ],
 "metadata": {
  "kernelspec": {
   "display_name": "Python 3 (ipykernel)",
   "language": "python",
   "name": "python3"
  },
  "language_info": {
   "codemirror_mode": {
    "name": "ipython",
    "version": 3
   },
   "file_extension": ".py",
   "mimetype": "text/x-python",
   "name": "python",
   "nbconvert_exporter": "python",
   "pygments_lexer": "ipython3",
   "version": "3.9.7"
  },
  "latex_envs": {
   "LaTeX_envs_menu_present": true,
   "autoclose": false,
   "autocomplete": true,
   "bibliofile": "biblio.bib",
   "cite_by": "apalike",
   "current_citInitial": 1,
   "eqLabelWithNumbers": true,
   "eqNumInitial": 1,
   "hotkeys": {
    "equation": "Ctrl-E",
    "itemize": "Ctrl-I"
   },
   "labels_anchors": false,
   "latex_user_defs": false,
   "report_style_numbering": false,
   "user_envs_cfg": false
  },
  "toc": {
   "base_numbering": 1,
   "nav_menu": {},
   "number_sections": true,
   "sideBar": true,
   "skip_h1_title": false,
   "title_cell": "Table of Contents",
   "title_sidebar": "Contents",
   "toc_cell": false,
   "toc_position": {},
   "toc_section_display": true,
   "toc_window_display": false
  }
 },
 "nbformat": 4,
 "nbformat_minor": 5
}
