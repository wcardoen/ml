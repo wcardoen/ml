{
 "cells": [
  {
   "cell_type": "markdown",
   "id": "37fb644a",
   "metadata": {},
   "source": [
    "# Linear Regression"
   ]
  },
  {
   "cell_type": "code",
   "execution_count": 19,
   "id": "789d0fcf",
   "metadata": {},
   "outputs": [],
   "source": [
    "import numpy as np\n",
    "import numpy.random as rnd\n",
    "import numpy.linalg as la\n",
    "import matplotlib.pyplot as plt\n",
    "%matplotlib inline"
   ]
  },
  {
   "cell_type": "markdown",
   "id": "255b40b7",
   "metadata": {},
   "source": [
    "**Linear regression** is a supervised method.\n",
    "\n",
    "\\begin{equation}\n",
    " f: X \\rightarrow y \\nonumber\n",
    "\\end{equation}"
   ]
  },
  {
   "cell_type": "markdown",
   "id": "887bbb11",
   "metadata": {},
   "source": [
    "## Data sets"
   ]
  },
  {
   "cell_type": "markdown",
   "id": "a13f061b",
   "metadata": {},
   "source": [
    "In what follows we will use 2 data sets:\n",
    "\n",
    "* a synthetic data set\n",
    "* the Diabetes Data set from *Efron et al.* (2004)"
   ]
  },
  {
   "cell_type": "code",
   "execution_count": 17,
   "id": "bbd4a3b3",
   "metadata": {},
   "outputs": [
    {
     "data": {
      "image/png": "[encoded data removed]",
      "text/plain": [
       "<Figure size 432x288 with 1 Axes>"
      ]
     },
     "metadata": {
      "needs_background": "light"
     },
     "output_type": "display_data"
    }
   ],
   "source": [
    "# DATA SET 1:               \n",
    "MEAN=0.0\n",
    "SD=0.25 # Sigma^2=0.0625\n",
    "SZ=10\n",
    "x=np.linspace(0.0, 2.0*np.pi, num=SZ)\n",
    "rnd.seed(seed=2505) # To make data reproducible\n",
    "noise=rnd.normal(loc=MEAN, scale=SD, size=SZ)\n",
    "y1=np.cos(x) \n",
    "y=y1 + noise\n",
    "\n",
    "plt.plot(x,y1,'o',label=r'$\\cos(x)$ where $x \\in [0,2\\pi]$')\n",
    "plt.plot(x,y,'x',label=r'$\\cos(x)+\\epsilon$ where $ \\epsilon \\sim N(0.0,0.0625)$ ')\n",
    "plt.xlabel(\"x\")\n",
    "plt.ylabel(\"y\")\n",
    "plt.legend()\n",
    "plt.title(r'Data set1: Synthetic data set')\n",
    "plt.show()\n"
   ]
  },
  {
   "cell_type": "markdown",
   "id": "d3cb3897",
   "metadata": {},
   "source": [
    "## Optimization of a given model"
   ]
  },
  {
   "cell_type": "markdown",
   "id": "d49c10f9",
   "metadata": {},
   "source": [
    "Let's consider the following linear model:\n",
    "\\begin{eqnarray}\n",
    " Y_i & = & \\sum_{i=0}^n X_i \\, \\beta_i \\, + \\, \\epsilon_i \\nonumber \n",
    "\\end{eqnarray}\n",
    "\n",
    "or in matrix form:\n",
    "\\begin{eqnarray}\n",
    " Y   & = & X\\, \\beta \\, + \\, \\epsilon \\nonumber \n",
    "\\end{eqnarray}\n",
    "where $X$ (design matrix) is an $n \\times p$ matrix.\n",
    "(In what follows, we assume that $n \\ge p$).\n",
    "\n",
    "This model can be optimized in several ways:\n",
    "* LSQ\n",
    "* Gradient Descent"
   ]
  },
  {
   "cell_type": "markdown",
   "id": "65a7f850",
   "metadata": {},
   "source": [
    "### LSQ-method"
   ]
  },
  {
   "cell_type": "markdown",
   "id": "63cce2e9",
   "metadata": {},
   "source": [
    "If the design matrix $X$ has rank $p$, then $X^TX$ is positive-definite and \n",
    "thus non-singular.\n",
    "\n",
    "The estimate for $\\beta$ i.e. $\\widehat{\\beta}$ is **unique** and thus given by:\n",
    "\\begin{eqnarray}\n",
    "   \\widehat{\\beta} & = & (X^TX)^{-1}\\,X^T \\,Y \\nonumber\n",
    "\\end{eqnarray}\n",
    "\n",
    "The fitted values $\\widehat{Y}$ are given by:\n",
    "\\begin{eqnarray}\n",
    "   \\widehat{Y} & = & X \\,  \\widehat{\\beta} \\nonumber\n",
    "\\end{eqnarray}\n",
    "\n",
    "The residuals $e$ are given by:\n",
    "\\begin{eqnarray}\n",
    "   e & = & Y\\, - \\, \\widehat{Y}  \\nonumber \\\\\n",
    "     & = & Y\\, - \\, X \\,  \\widehat{\\beta} \\nonumber\n",
    "\\end{eqnarray}\n",
    "\n",
    "The **residual sums of squares** (RSS) is thus:\n",
    "\\begin{eqnarray}\n",
    "   e^T\\,e &= & Y^TY \\, - \\, \\widehat{\\beta}^T  X^T X \\widehat{\\beta} \\nonumber\n",
    "\\end{eqnarray}\n",
    "\n",
    "The **mean square error** (MSE) is then given by:\n",
    "\\begin{eqnarray}\n",
    "    \\mathrm{MSE} & = & \\frac{\\mathrm{RSS}}{n} \\nonumber\n",
    "\\end{eqnarray}"
   ]
  },
  {
   "cell_type": "code",
   "execution_count": 46,
   "id": "4cf7c7ec",
   "metadata": {},
   "outputs": [
    {
     "name": "stdout",
     "output_type": "stream",
     "text": [
      " Max. PolyOrder:10\n",
      "  Order:1\n",
      "    RSS:\n",
      "        6.4160\n",
      "  Order:2\n",
      "    RSS:\n",
      "        0.5446\n",
      "  Order:3\n",
      "    RSS:\n",
      "        0.4750\n",
      "  Order:4\n",
      "    RSS:\n",
      "        0.1553\n",
      "  Order:5\n",
      "    RSS:\n",
      "        0.1312\n",
      "  Order:6\n",
      "    RSS:\n",
      "        0.1229\n",
      "  Order:7\n",
      "    RSS:\n",
      "        0.0819\n",
      "  Order:8\n",
      "    RSS:\n",
      "        0.0790\n",
      "  Order:9\n",
      "    RSS:\n",
      "        0.0002\n"
     ]
    }
   ],
   "source": [
    "def genXmat(x,orderPoly,hasIntercept=True):\n",
    "    \"\"\"\n",
    "    Create X matrix based on:\n",
    "      orderPoly:: order of the polynomial\n",
    "      hasIntercept :: presence of Intercept\n",
    "    \"\"\"\n",
    "    start=0\n",
    "    if hasIntercept==False:\n",
    "        start=1\n",
    "    return x[:,np.newaxis]**np.arange(start, orderPoly+1)\n",
    "\n",
    "def calcBetaHat(Xmat,Y):\n",
    "    \"\"\"\n",
    "    Calculate BetaHat\n",
    "    \"\"\"\n",
    "    return la.inv(Xmat.T @ Xmat) @ Xmat.T @ Y\n",
    "\n",
    "def calcYHat(Xmat,BetaHat):\n",
    "    \"\"\"\n",
    "    Calculate YHat\n",
    "    \"\"\"\n",
    "    return Xmat @ BetaHat\n",
    "\n",
    "def calcResid(Y,YHat):\n",
    "    \"\"\"\n",
    "    Calculate Residual\n",
    "    \"\"\"\n",
    "    return Y - YHat\n",
    "\n",
    "\n",
    "MAXORDER=x.shape[0]\n",
    "print(f\" Max. PolyOrder:{MAXORDER}\")\n",
    "\n",
    "lstIorder, lstRSS = [], []\n",
    "for iorder in range(1, MAXORDER):\n",
    "    lstIorder.append(iorder)\n",
    "    print(f\"  Order:{iorder}\")\n",
    "    Xmat = genXmat(x,iorder)\n",
    "    #print(f\" X:\\n{Xmat}\")\n",
    "    \n",
    "    BetaHat = calcBetaHat(Xmat,y)\n",
    "    #print(f\"    BetaHat:\\n      {BetaHat}\")\n",
    "    \n",
    "    YHat= calcYHat(Xmat,BetaHat)\n",
    "    #print(f\" YHat:\\n{YHat}\")\n",
    "    \n",
    "    Res = calcResi d(y,YHat)\n",
    "    #print(f\" Resid:\\n{Res}\")\n",
    "    \n",
    "    RSS = sum(Res * Res)\n",
    "    lstRSS.append(RSS)\n",
    "    print(f\"    RSS:\\n      {RSS:8.4f}\")    "
   ]
  },
  {
   "cell_type": "code",
   "execution_count": 63,
   "id": "60896e3c",
   "metadata": {},
   "outputs": [
    {
     "data": {
      "image/png": "[encoded data removed]",
      "text/plain": [
       "<Figure size 432x288 with 1 Axes>"
      ]
     },
     "metadata": {
      "needs_background": "light"
     },
     "output_type": "display_data"
    }
   ],
   "source": [
    "plt.plot(np.array(lstIorder), np.array(lstRSS)/x.shape[0],'o--')\n",
    "plt.axhline(y=0.0, color='r',linestyle='-')\n",
    "plt.title(r'MSE as function of the polynomial order')\n",
    "plt.xlabel('polynomial order')\n",
    "plt.ylabel('MSE')\n",
    "plt.show()"
   ]
  },
  {
   "cell_type": "markdown",
   "id": "465ead72",
   "metadata": {},
   "source": [
    "### Gradient Descent"
   ]
  },
  {
   "cell_type": "markdown",
   "id": "7487b1b0",
   "metadata": {},
   "source": [
    "## Finding the optimal model"
   ]
  },
  {
   "cell_type": "markdown",
   "id": "896c0142",
   "metadata": {},
   "source": [
    "Issue of overfitting and underfitting."
   ]
  },
  {
   "cell_type": "code",
   "execution_count": null,
   "id": "231063a3",
   "metadata": {},
   "outputs": [],
   "source": []
  }
 ],
 "metadata": {
  "kernelspec": {
   "display_name": "Python 3 (ipykernel)",
   "language": "python",
   "name": "python3"
  },
  "language_info": {
   "codemirror_mode": {
    "name": "ipython",
    "version": 3
   },
   "file_extension": ".py",
   "mimetype": "text/x-python",
   "name": "python",
   "nbconvert_exporter": "python",
   "pygments_lexer": "ipython3",
   "version": "3.9.7"
  },
  "latex_envs": {
   "LaTeX_envs_menu_present": true,
   "autoclose": false,
   "autocomplete": true,
   "bibliofile": "biblio.bib",
   "cite_by": "apalike",
   "current_citInitial": 1,
   "eqLabelWithNumbers": true,
   "eqNumInitial": 1,
   "hotkeys": {
    "equation": "Ctrl-E",
    "itemize": "Ctrl-I"
   },
   "labels_anchors": false,
   "latex_user_defs": false,
   "report_style_numbering": false,
   "user_envs_cfg": false
  },
  "toc": {
   "base_numbering": 1,
   "nav_menu": {},
   "number_sections": true,
   "sideBar": true,
   "skip_h1_title": false,
   "title_cell": "Table of Contents",
   "title_sidebar": "Contents",
   "toc_cell": false,
   "toc_position": {},
   "toc_section_display": true,
   "toc_window_display": false
  }
 },
 "nbformat": 4,
 "nbformat_minor": 5
}
