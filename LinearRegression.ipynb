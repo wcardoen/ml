{
 "cells": [
  {
   "cell_type": "markdown",
   "id": "37fb644a",
   "metadata": {},
   "source": [
    "# Linear Regression"
   ]
  },
  {
   "cell_type": "code",
   "execution_count": 67,
   "id": "789d0fcf",
   "metadata": {},
   "outputs": [],
   "source": [
    "import numpy as np\n",
    "import numpy.random as rnd\n",
    "import numpy.linalg as nla\n",
    "import matplotlib.pyplot as plt\n",
    "%matplotlib inline"
   ]
  },
  {
   "cell_type": "markdown",
   "id": "255b40b7",
   "metadata": {},
   "source": [
    "**Linear regression** is a supervised method.\n",
    "\n",
    "\\begin{equation}\n",
    " f: X \\rightarrow y \\nonumber\n",
    "\\end{equation}"
   ]
  },
  {
   "cell_type": "markdown",
   "id": "887bbb11",
   "metadata": {},
   "source": [
    "## Data sets"
   ]
  },
  {
   "cell_type": "markdown",
   "id": "a13f061b",
   "metadata": {},
   "source": [
    "In what follows we will consider 2 <font color=\"red\"><b>data sets</b></font>:"
   ]
  },
  {
   "cell_type": "markdown",
   "id": "da070ac2",
   "metadata": {},
   "source": [
    "### Data set I"
   ]
  },
  {
   "cell_type": "markdown",
   "id": "40df533f",
   "metadata": {},
   "source": [
    "<font color=\"red\"><b>data set I</b></font> (synthetic) - *univariate*"
   ]
  },
  {
   "cell_type": "code",
   "execution_count": 68,
   "id": "bbd4a3b3",
   "metadata": {},
   "outputs": [
    {
     "data": {
      "image/png": "[encoded data removed]",
      "text/plain": [
       "<Figure size 432x288 with 1 Axes>"
      ]
     },
     "metadata": {
      "needs_background": "light"
     },
     "output_type": "display_data"
    }
   ],
   "source": [
    "# DATA SET I:               \n",
    "MEAN=0.0\n",
    "SD=0.25 # Sigma^2=0.0625\n",
    "SZ=10\n",
    "START=0.0\n",
    "END=2.0*np.pi\n",
    "x=np.linspace(START, END, num=SZ)\n",
    "rnd.seed(seed=2505) # To make data reproducible\n",
    "noise=rnd.normal(loc=MEAN, scale=SD, size=SZ)\n",
    "y1=np.cos(x) \n",
    "y=y1 + noise\n",
    "\n",
    "plt.plot(x,y1,'o',label=r'$\\cos(x)$ where $x \\in [0,2\\pi]$')\n",
    "plt.plot(x,y,'x',label=r'$\\cos(x)+\\epsilon$ where $ \\epsilon \\sim N(0.0,0.0625)$ ')\n",
    "plt.xlabel(\"x\")\n",
    "plt.ylabel(\"y\")\n",
    "plt.legend()\n",
    "plt.title(r'Fig. 1:Data set I (synthetic)')\n",
    "plt.show()\n",
    "\n",
    "# Extra points from the same analytical set (for subsequent tests)\n",
    "SZ2=10000\n",
    "x2 = np.linspace(START, END, num=SZ2)\n",
    "rnd.seed(seed=27)\n",
    "noise2=rnd.normal(loc=MEAN, scale=SD, size=SZ2)\n",
    "y2=np.cos(x2) + noise2\n",
    "\n",
    "NUM_TEST2=20\n",
    "ind_test = sorted(rnd.choice(np.arange(SZ2), NUM_TEST2, replace=False ))\n",
    "x_test = x2[ind_test]\n",
    "y_test = y2[ind_test]"
   ]
  },
  {
   "cell_type": "markdown",
   "id": "048c6e62",
   "metadata": {},
   "source": [
    "### Data set II"
   ]
  },
  {
   "cell_type": "markdown",
   "id": "3b939271",
   "metadata": {},
   "source": [
    "<font color=\"red\"><b>data set II</b></font> (diabetes) - *multivariate* <br>\n",
    "Originally published in the following article:<br>\n",
    "**Least Angle Regression** (LARS),\n",
    "*Bradley Efron, Trevor Hastie, Iain Johnstone and Robert Tibshirani*,<br>\n",
    "*The Annals of Statistics, 2004, Vol. 32, 2, p. 407-499*."
   ]
  },
  {
   "cell_type": "markdown",
   "id": "d3cb3897",
   "metadata": {},
   "source": [
    "## Optimization of a given model"
   ]
  },
  {
   "cell_type": "markdown",
   "id": "d49c10f9",
   "metadata": {},
   "source": [
    "Let's consider the following linear model:\n",
    "\\begin{eqnarray}\n",
    " Y_j & = & \\sum_{i=0}^n X_{ji} \\, \\beta_i \\, + \\, \\epsilon_j \\nonumber \n",
    "\\end{eqnarray}\n",
    "\n",
    "or in matrix form:\n",
    "\\begin{eqnarray}\n",
    " Y   & = & X\\, \\beta \\, + \\, \\epsilon \\nonumber \n",
    "\\end{eqnarray}\n",
    "where $X$ (design matrix) is an $n \\times p$ matrix.\n",
    "(In what follows, we assume that $n \\ge p$).\n",
    "\n",
    "This model can be optimized in several ways, e.g.:\n",
    "* Least Squares Regression (LSQ)\n",
    "* Gradient Descent\n",
    "* Maximum Likelihood Estimation (MLE)"
   ]
  },
  {
   "cell_type": "markdown",
   "id": "65a7f850",
   "metadata": {},
   "source": [
    "### Least Squares method (LSQ)"
   ]
  },
  {
   "cell_type": "markdown",
   "id": "ba8cf8e8",
   "metadata": {},
   "source": [
    "The LSQ approach does **not** require information on the data points' underlying distribution.<br>\n",
    "Mathematically $\\beta$ can be estimated by minimizing the following $L^2$ norm:\n",
    "\\begin{eqnarray}\n",
    "   L(\\beta) & = &  \\lVert Y - X\\beta \\rVert^2 \\label{L2norm}\n",
    "\\end{eqnarray}\n",
    "\n",
    "Thus, taking the matrix derivative $\\frac{\\partial L}{\\partial \\beta}$ leads to the so-called \"normal\" equations:\n",
    "\\begin{eqnarray}\n",
    " X^T \\, X \\,\\widehat{\\beta}& = & X^T\\,Y \\nonumber\n",
    "\\end{eqnarray}\n",
    "\n",
    "If the regression/design matrix $X$ has rank $p$, then the matrix $X^TX$ is positive-definite and \n",
    "thus non-singular.\n",
    "\n",
    "The estimate for $\\beta$ i.e. $\\widehat{\\beta}$ is **unique** and thus given by:\n",
    "\\begin{eqnarray}\n",
    "   \\widehat{\\beta} & = & (X^TX)^{-1}\\,X^T \\,Y \\nonumber\n",
    "\\end{eqnarray}\n",
    "\n",
    "The fitted values $\\widehat{Y}$ are given by:\n",
    "\\begin{eqnarray}\n",
    "   \\widehat{Y} & = & X \\,  \\widehat{\\beta} \\nonumber\n",
    "\\end{eqnarray}\n",
    "\n",
    "The residuals $e$ are given by:\n",
    "\\begin{eqnarray}\n",
    "   e & = & Y\\, - \\, \\widehat{Y}  \\nonumber \\\\\n",
    "     & = & Y\\, - \\, X \\,  \\widehat{\\beta} \\nonumber\n",
    "\\end{eqnarray}\n",
    "\n",
    "The **residual sums of squares** (RSS) is thus:\n",
    "\\begin{eqnarray}\n",
    "   e^T\\,e &= & Y^TY \\, - \\, \\widehat{\\beta}^T  X^T X \\widehat{\\beta} \\nonumber\n",
    "\\end{eqnarray}\n",
    "\n",
    "The **mean square error** (MSE) is then given by:\n",
    "\\begin{eqnarray}\n",
    "    \\mathrm{MSE} & = & \\frac{\\mathrm{RSS}}{n} \\nonumber\n",
    "\\end{eqnarray}"
   ]
  },
  {
   "cell_type": "code",
   "execution_count": 69,
   "id": "4cf7c7ec",
   "metadata": {},
   "outputs": [],
   "source": [
    "def genXmat(x,orderPoly,hasIntercept=True):\n",
    "    \"\"\"\n",
    "    Create X matrix based on:\n",
    "      orderPoly:: order of the polynomial\n",
    "      hasIntercept :: presence of Intercept\n",
    "    \"\"\"\n",
    "    start=0\n",
    "    if hasIntercept==False:\n",
    "        start=1\n",
    "    return x[:,np.newaxis]**np.arange(start, orderPoly+1)\n",
    "\n",
    "def calcBetaHat(Xmat,Y):\n",
    "    \"\"\"\n",
    "    Calculate BetaHat\n",
    "    \"\"\"\n",
    "    return nla.inv(Xmat.T @ Xmat) @ Xmat.T @ Y\n",
    "\n",
    "def calcYHat(Xmat,BetaHat):\n",
    "    \"\"\"regression\n",
    "    Calculate YHat\n",
    "    \"\"\"\n",
    "    return Xmat @ BetaHat\n",
    "\n",
    "def calcResid(Y,YHat):\n",
    "    \"\"\"regression\n",
    "    Calculate Residual\n",
    "    \"\"\"\n",
    "    return Y - YHat"
   ]
  },
  {
   "cell_type": "code",
   "execution_count": 108,
   "id": "62eae248",
   "metadata": {},
   "outputs": [],
   "source": [
    "MAXORDER = x.shape[0]\n",
    "lstIorder, lstRSS = [], []\n",
    "lstBetaHat, lstYHat = [], []\n",
    "for iorder in range(1, MAXORDER):\n",
    "    \n",
    "    Xmat = genXmat(x,iorder)\n",
    "    BetaHat = calcBetaHat(Xmat,y)\n",
    "    YHat = calcYHat(Xmat,BetaHat)\n",
    "    Res = calcResid(y,YHat)\n",
    "    RSS = np.sum(Res * Res)\n",
    "    # Accumulate data\n",
    "    lstIorder.append(iorder)\n",
    "    lstBetaHat.append(BetaHat)\n",
    "    lstYHat.append(YHat)\n",
    "    lstRSS.append(RSS)"
   ]
  },
  {
   "cell_type": "code",
   "execution_count": 109,
   "id": "6a42e8be",
   "metadata": {},
   "outputs": [
    {
     "data": {
      "image/png": "[encoded data removed]",
      "text/plain": [
       "<Figure size 432x288 with 1 Axes>"
      ]
     },
     "metadata": {
      "needs_background": "light"
     },
     "output_type": "display_data"
    }
   ],
   "source": [
    "plt.title('Fig. 2: Data set I and corresponding ' + r'$P_n(x)$' + ' fits')\n",
    "plt.plot(x, y, 'x', label=r'Exp.')\n",
    "plt.xlabel('x')\n",
    "plt.ylabel('y')\n",
    "plt.plot(x, lstYHat[0], label=r'$P_1(x)$')\n",
    "plt.plot(x, lstYHat[1], label=r'$P_2(x)$')\n",
    "plt.plot(x, lstYHat[2], label=r'$P_3(x)$')\n",
    "plt.plot(x, lstYHat[8], label=r'$P_9(x)$')\n",
    "plt.legend()\n",
    "plt.show()"
   ]
  },
  {
   "cell_type": "code",
   "execution_count": 72,
   "id": "34322cd6",
   "metadata": {},
   "outputs": [
    {
     "data": {
      "image/png": "[encoded data removed]",
      "text/plain": [
       "<Figure size 432x288 with 1 Axes>"
      ]
     },
     "metadata": {
      "needs_background": "light"
     },
     "output_type": "display_data"
    }
   ],
   "source": [
    "plt.axhline(y=0.0, color='r',linestyle='-')\n",
    "plt.title('Fig. 3:MSE as function of ' + r'$P_n(x)=\\sum_{k=0}^n \\beta_k x^k$')\n",
    "plt.xlabel('n')\n",
    "plt.ylabel('MSE')\n",
    "plt.plot(np.array(lstIorder), np.array(lstRSS)/x.shape[0],'o--')\n",
    "plt.show()"
   ]
  },
  {
   "cell_type": "markdown",
   "id": "06329652",
   "metadata": {},
   "source": [
    "#### Ex.: $P_3(x)$ polynomial fit (LSQ) for data set I \n"
   ]
  },
  {
   "cell_type": "markdown",
   "id": "df8c7444",
   "metadata": {},
   "source": [
    "The cubic approximation is given by:\n",
    "\\begin{eqnarray}\n",
    " P_3(x) &:= & \\displaystyle \\sum_{k=0}^3 x^k \\, \\beta_k  \\nonumber \\\\\n",
    "        & = &\\beta_0 \\, + \\, x \\, \\beta_1  \\, + \\, x^2 \\, \\beta_2 \\, + \\, x^3 \\, \\beta_3  \\nonumber\n",
    "\\end{eqnarray} \n"
   ]
  },
  {
   "cell_type": "code",
   "execution_count": 110,
   "id": "c197979b",
   "metadata": {},
   "outputs": [
    {
     "name": "stdout",
     "output_type": "stream",
     "text": [
      "Numerical values (data set I)::\n",
      "  Beta_0:   1.50131612\n",
      "  Beta_1:  -1.66363662\n",
      "  Beta_2:   0.34779480\n",
      "  Beta_3:  -0.01394542\n",
      "RSS:0.47502225\n"
     ]
    }
   ],
   "source": [
    "print(f\"Numerical values (data set I)::\")\n",
    "for i, item in enumerate(lstBetaHat[2]):\n",
    "    print(f\"  Beta_{i}: {item:12.8f}\")\n",
    "print(f\"RSS:{lstRSS[2]:10.8f}\")    "
   ]
  },
  {
   "cell_type": "markdown",
   "id": "465ead72",
   "metadata": {},
   "source": [
    "### Gradient Descent (GD)"
   ]
  },
  {
   "cell_type": "markdown",
   "id": "570a2a6a",
   "metadata": {},
   "source": [
    "The estimate for $\\beta$ can also be found by applying the gradient descent \n",
    "method on the $L^2$ norm given by Eq.\\,\\ref{L2norm}.\n",
    "\n",
    "\\begin{eqnarray}\n",
    " L(\\beta) & =  & f(\\beta) & = &\\lVert Y - X\\beta \\rVert^2 \\nonumber \\\\\n",
    "          &    &          & = & (Y - X \\beta)^T \\,(Y - X \\beta) \\nonumber \\\\\n",
    "          &    &          & = & Y^TY -Y^TX \\beta - \\beta^TX^TY + \\beta^TX^TX \\beta \\\\\n",
    "\\end{eqnarray}\n",
    "\n",
    "The gradient w.r.t $\\beta$ is therefore given by:\n",
    "\\begin{eqnarray}\n",
    " \\nabla_{\\beta} L(\\beta) &= & g(\\beta) & = & 2 \\,( X^T X \\beta -X^T\\,Y) \\nonumber \\\\ \n",
    "                         &  &             & = & 2\\,X^T\\,( X \\beta - Y)\n",
    "\\end{eqnarray}"
   ]
  },
  {
   "cell_type": "markdown",
   "id": "43a2b1ef",
   "metadata": {},
   "source": [
    "#### Gradient Descent Algorithm (using backtrace)"
   ]
  },
  {
   "cell_type": "markdown",
   "id": "370a20e9",
   "metadata": {},
   "source": [
    "* Initialization:\n",
    "  * Choose $\\beta_{0}$ \n",
    "  * Set a threshold $\\epsilon$\n",
    "* While ($\\lVert g(\\beta) \\rVert >\\epsilon$) && ($k \\leq k_{max}$) \n",
    "  * Choose $d_k$\n",
    "  * Select $t_k$ | $f(\\beta_k + t_kd_k) < f(\\beta_k)$\n",
    "  * $\\beta_{k+1} =  \\beta_{k} + t_k d_k$\n",
    "  * $k=k+1$\n",
    "  \n",
    "The backtracking approach requires 3 parameters: $s,a,b$\n",
    "where: \n",
    "* $s>0$ \n",
    "* $a,b \\in (0,1)$."
   ]
  },
  {
   "cell_type": "code",
   "execution_count": 74,
   "id": "9b4f5b45",
   "metadata": {},
   "outputs": [],
   "source": [
    "def f(y, Xmat, beta):\n",
    "    \"\"\"\n",
    "    f(beta) := |y-Xmat beta|^2\n",
    "    \"\"\"\n",
    "    z = y - Xmat @ beta\n",
    "    return np.dot(z,z)\n",
    "\n",
    "def g(y, Xmat, beta):\n",
    "    \"\"\"\n",
    "    g = f'(beta) = -2 Xmat^T.y + 2 Xmat^T. Xmat beta\n",
    "    \"\"\"\n",
    "    return 2.0 *Xmat.T @ (Xmat @ beta -  y)"
   ]
  },
  {
   "cell_type": "code",
   "execution_count": 75,
   "id": "cc87e9fc",
   "metadata": {},
   "outputs": [],
   "source": [
    "def gradDescBackTrace(f, g, y, Xmat ,xo, s, a, b , CONV=1.0E-4 , NITERMAX=100000):\n",
    "    \"\"\"\n",
    "    Gradient Descent with Backtrace\n",
    "        f          : Function to be optimized\n",
    "        g          : Gradient vector of f\n",
    "        y, A, x0   : Arguments for f and g\n",
    "        \n",
    "        s          : s-coeff for BT (also known as the learning rate)\n",
    "        a          : a-coeff for BT\n",
    "        b          : b-coeff for BT\n",
    "        CONV       : Convergence Threshold of the Gradient (Default: 1.0E-5)\n",
    "        NITERMAX   : Max. #Iterations (Default: 100000)\n",
    "    Return\n",
    "        isConverged: Convergence of the simulation\n",
    "        xs         : Last coord.\n",
    "        arrGradNorm   : Array of grad. norm\n",
    "    \"\"\"\n",
    "    arrGradNorm=[]\n",
    "    isConverged=False\n",
    "    xs = xo\n",
    "    niter = 0\n",
    "    grad = g(y,A,xs)\n",
    "    arrGradNorm.append(nla.norm(grad))\n",
    "    fval = f(y,A,xs)\n",
    "    print(f\"    beta           :[{' '.join([ f'{item:>16.8E}' for item in xs])}]\")\n",
    "    print(f\"    s              :{s:8.4f}\")\n",
    "    print(f\"    a              :{a:8.4f}\")\n",
    "    print(f\"    b              :{b:8.4f}\")\n",
    "    print(f\"    Conv. threshold:{CONV:8.2E}\")\n",
    "    print(f\"    Max. #Iter     :{NITERMAX:8d}\\n\")  \n",
    "    \n",
    "    while (nla.norm(grad) > CONV) and (niter<NITERMAX):\n",
    "\n",
    "        # Find ideal step for backtrace\n",
    "        t = s\n",
    "        while (fval - f(y,A,xs - t*grad)) < a*t*nla.norm(grad)**2 :\n",
    "              t = b*t\n",
    "\n",
    "        # Normal Gradient Descent \n",
    "        xs = xs - t *grad\n",
    "        grad = g(y,A,xs)\n",
    "        arrGradNorm.append(nla.norm(grad))\n",
    "        fval = f(y,A,xs)\n",
    "        niter += 1\n",
    "        \n",
    "    if nla.norm(grad) <= CONV:\n",
    "        isConverged=True\n",
    "        print(f\"    => CONVERGED at iter:{niter}!\")\n",
    "    return isConverged, xs, arrGradNorm"
   ]
  },
  {
   "cell_type": "markdown",
   "id": "0b340b81",
   "metadata": {},
   "source": [
    "#### Ex.: $P_3(x)$ polynomial fit (GD) for data set I"
   ]
  },
  {
   "cell_type": "code",
   "execution_count": 76,
   "id": "d8b2d51e",
   "metadata": {},
   "outputs": [
    {
     "name": "stdout",
     "output_type": "stream",
     "text": [
      "    beta           :[  0.00000000E+00   0.00000000E+00   0.00000000E+00   0.00000000E+00]\n",
      "    s              :  1.0000\n",
      "    a              :  0.5000\n",
      "    b              :  0.5000\n",
      "    Conv. threshold:1.00E-04\n",
      "    Max. #Iter     : 1000000\n",
      "\n",
      "    => CONVERGED at iter:400372!\n"
     ]
    }
   ],
   "source": [
    "A = genXmat(x,3)\n",
    "xo = np.zeros(4)\n",
    "isConverged, coord, arrGradNorm = \\\n",
    "gradDescBackTrace(f, g, y, A, xo, 1.0, 0.5, 0.5, CONV=1.0E-4, NITERMAX=1000000)"
   ]
  },
  {
   "cell_type": "code",
   "execution_count": 111,
   "id": "67edb7e6",
   "metadata": {},
   "outputs": [
    {
     "name": "stdout",
     "output_type": "stream",
     "text": [
      "Numerical values (data set I)::\n",
      "  Beta_0   :  1.50125513\n",
      "  Beta_1   : -1.66353385\n",
      "  Beta_2   :  0.34775829\n",
      "  Beta_3   : -0.01394190\n",
      "  |g(beta)|:  0.00009992\n"
     ]
    }
   ],
   "source": [
    "if isConverged==True:\n",
    "    print(f\"Numerical values (data set I)::\")\n",
    "    for i, item in enumerate(coord):\n",
    "        print(f\"  Beta_{i}   :{item:12.8f}\")\n",
    "    print(f\"  |g(beta)|:{arrGradNorm[-1]:12.8f}\")"
   ]
  },
  {
   "cell_type": "code",
   "execution_count": 78,
   "id": "ed6f5ef2",
   "metadata": {},
   "outputs": [
    {
     "data": {
      "image/png": "[encoded data removed]",
      "text/plain": [
       "<Figure size 432x288 with 1 Axes>"
      ]
     },
     "metadata": {
      "needs_background": "light"
     },
     "output_type": "display_data"
    }
   ],
   "source": [
    "plt.plot(arrGradNorm)\n",
    "plt.title('Fig. 4:' + r'$|g(\\beta)|=|\\nabla_{\\beta}(\\beta)|$')\n",
    "plt.xlabel('iter')\n",
    "plt.ylabel(r'$|g(\\beta)|$')\n",
    "plt.xticks(np.arange(0,450000,step=100000))\n",
    "plt.show()"
   ]
  },
  {
   "cell_type": "markdown",
   "id": "7487b1b0",
   "metadata": {},
   "source": [
    "## Underfitting, overfitting and the optimal model for data set I"
   ]
  },
  {
   "cell_type": "markdown",
   "id": "e0c110a1",
   "metadata": {},
   "source": [
    "In Fig. 3, $\\mathrm{MSE}=0$ when the $P_9(x)$ fit is used for data set I: \n",
    "<font color=\"red\"><b>we have a perfect fit \n",
    "    for the data provided</b></font>.<br> \n",
    "This does **not** mean that the $P_9(x)$ fit is necessary the best model to predict the outcome of **new** data points.<br> \n",
    "This phenomenon is known as **overfitting**.\n",
    "\n",
    "The data belonging to data set I are neither well fit by $P_1(x)$.<br>\n",
    "The phenomenon associated to $P_1(x)$ is known as **underfitting**. "
   ]
  },
  {
   "cell_type": "code",
   "execution_count": 112,
   "id": "2886c6df",
   "metadata": {},
   "outputs": [
    {
     "name": "stdout",
     "output_type": "stream",
     "text": [
      "  Best Polynomial fit (for new data):5\n"
     ]
    }
   ],
   "source": [
    "MAXORDER = x.shape[0]\n",
    "lstRSSTest = []\n",
    "for iorder in range(1,MAXORDER):\n",
    "    Xmat = genXmat(x_test,iorder)\n",
    "    YHat = calcYHat(Xmat,lstBetaHat[iorder-1])\n",
    "    res = y_test - YHat\n",
    "    lstRSSTest.append(np.sum(res*res))\n",
    "print(f\"  Best Polynomial fit (for new data points):{np.argmin(lstRSSTest)+1}\")"
   ]
  },
  {
   "cell_type": "code",
   "execution_count": 107,
   "id": "e4960df0",
   "metadata": {},
   "outputs": [
    {
     "data": {
      "image/png": "[encoded data removed]",
      "text/plain": [
       "<Figure size 432x288 with 1 Axes>"
      ]
     },
     "metadata": {
      "needs_background": "light"
     },
     "output_type": "display_data"
    }
   ],
   "source": [
    "plt.title('Fig. 5: MSE for 20 new data points using ' + r'$\\widehat{\\beta_n}$' + ' for '  r'$P_n(x)$')\n",
    "plt.plot(range(1,MAXORDER), lstRSSTest, '.--', label=r'$\\mathrm{MSE}(n)$')\n",
    "plt.xlabel('n')\n",
    "plt.ylabel(r'$\\mathrm{MSE}(n)$')\n",
    "plt.legend()\n",
    "plt.show()"
   ]
  },
  {
   "cell_type": "markdown",
   "id": "47ceb930",
   "metadata": {},
   "source": [
    "### Conclusion "
   ]
  },
  {
   "cell_type": "markdown",
   "id": "462af442",
   "metadata": {},
   "source": [
    "From the plot in Fig. 5 (MSE as function of the polynomial order), we can conclude that the polynomial $P_5(x)$ is the best fit for new data points."
   ]
  },
  {
   "cell_type": "markdown",
   "id": "92d7c4be",
   "metadata": {},
   "source": [
    "## Dataset II (Diabetes) and the use of scikit-learn "
   ]
  },
  {
   "cell_type": "markdown",
   "id": "c027f2b2",
   "metadata": {},
   "source": [
    "Dataset II (diabetes) is to be retrieved from the *scikit-learn* package. "
   ]
  },
  {
   "cell_type": "code",
   "execution_count": null,
   "id": "2da1164c",
   "metadata": {},
   "outputs": [],
   "source": [
    "import numpy as np\n",
    "import sklearn as sk\n",
    "import sklearn.datasets as skdata\n",
    "from sklearn.model_selection import train_test_split\n",
    "from sklearn import linear_model\n",
    "from sklearn.metrics import mean_squared_error, r2_score"
   ]
  },
  {
   "cell_type": "markdown",
   "id": "3a5582b5",
   "metadata": {},
   "source": [
    "### Load the dataset"
   ]
  },
  {
   "cell_type": "code",
   "execution_count": null,
   "id": "7491c4dc",
   "metadata": {},
   "outputs": [],
   "source": [
    "diabetes = skdata.load_diabetes(as_frame=False)\n",
    "print(f\"  Diabetes keys:\\n{diabetes.keys()}\")\n",
    "X = diabetes['data']\n",
    "y = diabetes['target']"
   ]
  },
  {
   "cell_type": "markdown",
   "id": "f0f553e1",
   "metadata": {},
   "source": [
    "The diabetes data set has $10$ predictor variables (\"features\") and $1$ response variable (\"target\")."
   ]
  },
  {
   "cell_type": "code",
   "execution_count": null,
   "id": "fe17aeae",
   "metadata": {},
   "outputs": [],
   "source": [
    "print(f\"  Features:\")\n",
    "for i, item in enumerate(diabetes['feature_names']):\n",
    "    print(f\"  #{i+1:2d}  '{item}'\")   "
   ]
  },
  {
   "cell_type": "markdown",
   "id": "d5ac9078",
   "metadata": {},
   "source": [
    "### Split the data set"
   ]
  },
  {
   "cell_type": "markdown",
   "id": "6f79baf2",
   "metadata": {},
   "source": [
    "The data set (X,y) will be split into 2 parts:\n",
    "* a training set i.e. X_train, y_train\n",
    "* a test set i.e. X_test, y_test\n",
    "\n",
    "i.e.:\n",
    "* X = X_train $\\cup$ X_test\n",
    "* y = y_train $\\cup$ y_test\n",
    "\n",
    "The test set will be used to cross-validate the model.\n",
    "In the example we decided to split the data set in the following way:\n",
    "* the data entries are randomly selected (but with a fixed seed for reproducibility)\n",
    "* the training set takes 75% of the entries; the test set the remaining 25%"
   ]
  },
  {
   "cell_type": "code",
   "execution_count": null,
   "id": "e4cf11cc",
   "metadata": {},
   "outputs": [],
   "source": [
    "X_train, X_test, y_train, y_test  = train_test_split(X,y, test_size=0.25, random_state=2505)\n",
    "for item in (X_train, y_train, X_test, y_test):\n",
    "    print(f\"   dim:{item.shape}\")"
   ]
  },
  {
   "cell_type": "markdown",
   "id": "47d20d52",
   "metadata": {},
   "source": [
    "### Create the linear regression model"
   ]
  },
  {
   "cell_type": "code",
   "execution_count": null,
   "id": "c59e7705",
   "metadata": {},
   "outputs": [],
   "source": [
    "lm = linear_model.LinearRegression()"
   ]
  },
  {
   "cell_type": "markdown",
   "id": "5ebbb23c",
   "metadata": {},
   "source": [
    "### Train the model"
   ]
  },
  {
   "cell_type": "markdown",
   "id": "87d4997e",
   "metadata": {},
   "source": [
    "We can train the model: \n",
    "\\begin{eqnarray}\n",
    "    y_i & = & \\displaystyle \\beta_0 \\,+\\,\\sum_{k=1}^{n=10} x_{ik}\\, \\beta_k \\nonumber \\\\\n",
    "      Y & = & X \\, \\beta \\label{LinModel} \n",
    "\\end{eqnarray}\n",
    "using the training sets X_train and y_train"
   ]
  },
  {
   "cell_type": "code",
   "execution_count": null,
   "id": "9e7de13b",
   "metadata": {},
   "outputs": [],
   "source": [
    "lm.fit(X_train, y_train)\n",
    "print(f\"  Intercept (Beta_0):{lm.intercept_:12.6f}\")\n",
    "for i, item in enumerate(lm.coef_) :\n",
    "    print(f\"  Beta_{i+1:2d}: {item:12.6f}\")    "
   ]
  },
  {
   "cell_type": "markdown",
   "id": "efbf2325",
   "metadata": {},
   "source": [
    "### Test the accuracy of the above model"
   ]
  },
  {
   "cell_type": "markdown",
   "id": "15150c6a",
   "metadata": {},
   "source": [
    "The sets X_test and y_test are now used to test the model as specified by Eq. \\ref{LinModel}.\n",
    "\n",
    "The $\\mathrm{SSE}$ (Sum Squares Error) is given by:\n",
    "\\begin{eqnarray}\n",
    "    \\mathrm{SSE} & = & \\displaystyle \\sum_{i=1}^n \n",
    "      \\Bigg( y_i \\, -\\,\\Big [\\widehat{\\beta_0}\\,+\\,\\sum_{k=1}^{10} x_{ik}\\,\\widehat{\\beta_k} \\Big ] \\Bigg)^2 \\nonumber\n",
    "\\end{eqnarray}\n",
    "  \n",
    "where $y_i\\in$ y\\_test; and $x_i  \\in$ X\\_test. \n",
    "      \n",
    "The $\\mathrm{MSE}$ (Mean Squares Error) is thus given by:\n",
    "\\begin{eqnarray}\n",
    "      \\mathrm{MSE}           & = & \\frac{\\mathrm{SSE}}{n} \\nonumber\n",
    "\\end{eqnarray}\n",
    "\n",
    "The $\\mathrm{SST}$ is given by:\n",
    "\\begin{eqnarray}\n",
    "    \\mathrm{SST} & = & \\displaystyle \\sum_{i=1}^n \\Bigg ( y_i \\, - \\, \\overline{y} \\Bigg)^2 \\nonumber\n",
    "\\end{eqnarray} \n",
    "\n",
    "$R^2$ is defined as:\n",
    "\\begin{eqnarray}\n",
    "    \\mathrm{R}^2 & = & 1 - \\frac{\\mathrm{SSE}}{\\mathrm{SST}} \\nonumber\n",
    "\\end{eqnarray}    "
   ]
  },
  {
   "cell_type": "code",
   "execution_count": null,
   "id": "0fd3ebb6",
   "metadata": {},
   "outputs": [],
   "source": [
    "z = y_test - y_pred\n",
    "SSE = np.sum(z**2)\n",
    "print(f\"MSE (using sk):{mean_squared_error(y_test, y_pred):12.6f}\")\n",
    "print(f\" or (manually):{1/len(z)*SSE:12.6f}\")\n",
    "\n",
    "av = np.mean(y_test)\n",
    "SST = np.sum((y_test -av)**2)\n",
    "print(f\"R2 (using sk)   :{r2_score(y_test,y_pred):8.4f}\")\n",
    "print(f\"   or (manually):{1- SSE/SST:8.4f}\")"
   ]
  },
  {
   "cell_type": "markdown",
   "id": "73a1d547",
   "metadata": {},
   "source": [
    "## How to improve the above model?"
   ]
  },
  {
   "cell_type": "markdown",
   "id": "aec640e2",
   "metadata": {},
   "source": [
    "The value of R$^2$ is not great (to put it mildly). How can we improve the model? \n",
    "What is the real functional dependence of y on each of the predictors? Can we reduce the\n",
    "number of predictor variables?\n",
    "\n",
    "<p>The use of some statistical techniques should really do it. To be continued...</p>\n"
   ]
  },
  {
   "cell_type": "code",
   "execution_count": null,
   "id": "25a81c00",
   "metadata": {},
   "outputs": [],
   "source": []
  }
 ],
 "metadata": {
  "kernelspec": {
   "display_name": "Python 3 (ipykernel)",
   "language": "python",
   "name": "python3"
  },
  "language_info": {
   "codemirror_mode": {
    "name": "ipython",
    "version": 3
   },
   "file_extension": ".py",
   "mimetype": "text/x-python",
   "name": "python",
   "nbconvert_exporter": "python",
   "pygments_lexer": "ipython3",
   "version": "3.9.7"
  },
  "latex_envs": {
   "LaTeX_envs_menu_present": true,
   "autoclose": false,
   "autocomplete": true,
   "bibliofile": "biblio.bib",
   "cite_by": "apalike",
   "current_citInitial": 1,
   "eqLabelWithNumbers": true,
   "eqNumInitial": 1,
   "hotkeys": {
    "equation": "Ctrl-E",
    "itemize": "Ctrl-I"
   },
   "labels_anchors": true,
   "latex_user_defs": true,
   "report_style_numbering": false,
   "user_envs_cfg": true
  },
  "toc": {
   "base_numbering": 1,
   "nav_menu": {},
   "number_sections": true,
   "sideBar": true,
   "skip_h1_title": false,
   "title_cell": "Table of Contents",
   "title_sidebar": "Contents",
   "toc_cell": false,
   "toc_position": {
    "height": "calc(100% - 180px)",
    "left": "10px",
    "top": "150px",
    "width": "384px"
   },
   "toc_section_display": true,
   "toc_window_display": true
  }
 },
 "nbformat": 4,
 "nbformat_minor": 5
}
